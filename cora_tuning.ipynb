{
 "cells": [
  {
   "cell_type": "markdown",
   "metadata": {},
   "source": [
    "## Step 1: Install Dependencies and Set Up Environment\n",
    "\n",
    "First, run this cell to install the necessary Python libraries. \n",
    "\n",
    "**Important:** Before running the next cell, make sure you have uploaded your data and model files to the correct locations in the Colab file explorer:\n",
    "\n",
    "1.  **Dataset Files**: Create a `dataset/ml-1m` directory and upload your `.pkl` files there. The final paths should look like this:\n",
    "    - `/content/dataset/ml-1m/train_ood2.pkl`\n",
    "    - `/content/dataset/ml-1m/valid_ood2.pkl`\n",
    "    - `/content/dataset/ml-1m/test_ood2.pkl`\n",
    "\n",
    "2.  **Model Code**: Upload the `minigpt4` and `CoRA` folders from the project. The structure should be:\n",
    "    - `/content/minigpt4/...`\n",
    "    - `/content/CoRA/...`\n",
    "\n",
    "3. **Vicuna Weights**: Upload the Vicuna weights to a directory named `vicuna_weight_working`:\n",
    "    - `/content/vicuna_weight_working/...`\n",
    "\n",
    "4. **Pre-trained Model**: Upload the `mf_movielens_best.pth` file to the following path:\n",
    "    - `/content/dataset/pretrained/mf_movielens_best.pth`"
   ]
  },
  {
   "cell_type": "code",
   "execution_count": null,
   "metadata": {},
   "outputs": [],
   "source": [
    "!pip install accelerate==0.16.0 aiohttp==3.8.4 aiosignal==1.3.1 async-timeout==4.0.2 attrs==22.2.0 bitsandbytes==0.37.0 cchardet==2.1.7 chardet==5.1.0 contourpy==1.0.7 cycler==0.11.0 filelock==3.9.0 fonttools==4.38.0 frozenlist==1.3.3 huggingface-hub==0.13.4 importlib-resources==5.12.0 kiwisolver==1.4.4 matplotlib==3.7.0 multidict==6.0.4 openai==0.27.0 packaging==23.0 psutil==5.9.4 pycocotools==2.0.6 pyparsing==3.0.9 python-dateutil==2.8.2 pyyaml==6.0 regex==2022.10.31 tokenizers==0.13.2 tqdm==4.6.1 transformers==4.28.0 timm==0.6.13 spacy==3.5.1 webdataset==0.2.48 scikit-learn==1.2.2 scipy==1.10.1 yarl==1.8.2 zipp==3.14.0 omegaconf==2.3.0 opencv-python==4.7.0.72 iopath==0.1.10 decord==0.6.0 tenacity==8.2.2 peft pycocoevalcap sentence-transformers umap-learn notebook gradio==3.24.1 gradio-client==0.0.8 wandb"
   ]
  },
  {
   "cell_type": "markdown",
   "metadata": {},
   "source": [
    "## Step 2: Create the YAML Configuration File"
   ]
  },
  {
   "cell_type": "code",
   "execution_count": null,
   "metadata": {},
   "outputs": [],
   "source": [
    "import os\n",
    "\n",
    "config_str = \"\"\"\n",
    "model:\n",
    "  arch: mini_gpt4rec_vx\n",
    "  model_type: pretrain_vicuna\n",
    "  freeze_rec: True\n",
    "  freeze_proj: True\n",
    "  freeze_lora: False\n",
    "  freeze_bias: True\n",
    "  max_txt_len: 1024\n",
    "  proj_token_num: 1\n",
    "  proj_drop: 0\n",
    "  proj_mid_times: 10\n",
    "  end_sym: \"###\"\n",
    "  prompt_path: \"CoRA/prompts/tallrec_movie.txt\"\n",
    "  prompt_template: '{}'\n",
    "  llama_model: \"vicuna_weight_working\"\n",
    "  user_num: -100\n",
    "  item_num: -100\n",
    "  ans_type: 'v2'\n",
    "  lora_config:\n",
    "    use_lora: True\n",
    "    r: 16\n",
    "    alpha: 32\n",
    "    target_modules: [\"q_proj\", \"v_proj\", \"o_proj\", \"k_proj\"]\n",
    "    dropout: 0.05\n",
    "  rec_config:\n",
    "    user_num: -100\n",
    "    item_num: -100\n",
    "    embedding_size: 256\n",
    "    pretrained_path: \"/content/dataset/pretrained/mf_movielens_best.pth\"\n",
    "  ckpt: null\n",
    "\n",
    "datasets:\n",
    "  movie_ood:\n",
    "    path: /content/dataset/ml-1m/\n",
    "    data_type: default\n",
    "    build_info:\n",
    "      storage: /content/dataset/ml-1m/\n",
    "\n",
    "run:\n",
    "  task: rec_pretrain\n",
    "  lr_sched: \"linear_warmup_cosine_lr\"\n",
    "  init_lr: 1e-3\n",
    "  min_lr: 8e-5\n",
    "  warmup_lr: 1e-5\n",
    "  mode: 'v2'\n",
    "  weight_decay: 1e-3\n",
    "  max_epoch: 1000\n",
    "  iters_per_epoch: 100\n",
    "  batch_size_train: 8\n",
    "  batch_size_eval: 32\n",
    "  num_workers: 4\n",
    "  warmup_steps: 200\n",
    "  seed: 42\n",
    "  output_dir: logs/test/\n",
    "  amp: True\n",
    "  resume_ckpt_path: null\n",
    "  evaluate: False\n",
    "  train_splits: [\"train\"]\n",
    "  valid_splits: [\"valid\"]\n",
    "  test_splits: [\"test_warm\", \"test_cold\", \"test\"]\n",
    "  device: \"cuda\"\n",
    "  world_size: 1\n",
    "  dist_url: \"env://\"\n",
    "  distributed: False\n",
    "\"\"\"\n",
    "\n",
    "config_dir = '/content/CoRA/train_configs'\n",
    "os.makedirs(config_dir, exist_ok=True)\n",
    "config_path = os.path.join(config_dir, 'plora_pretrain_mf_ood_movie.yaml')\n",
    "\n",
    "with open(config_path, 'w') as f:\n",
    "    f.write(config_str)"
   ]
  },
  {
   "cell_type": "markdown",
   "metadata": {},
   "source": [
    "## Step 3: Run the CoRA Tuning Script"
   ]
  },
  {
   "cell_type": "code",
   "execution_count": null,
   "metadata": {},
   "outputs": [],
   "source": [
    "!python /content/CoRA/train_collm_mf_din.py --cfg-path=/content/CoRA/train_configs/plora_pretrain_mf_ood_movie.yaml"
   ]
  }
 ],
 "metadata": {
  "kernelspec": {
   "display_name": "Python 3",
   "language": "python",
   "name": "python3"
  },
  "language_info": {
   "codemirror_mode": {
    "name": "ipython",
    "version": 3
   },
   "file_extension": ".py",
   "mimetype": "text/x-python",
   "name": "python",
   "nbconvert_exporter": "python",
   "pygments_lexer": "ipython3",
   "version": "3.10.12"
  }
 },
 "nbformat": 4,
 "nbformat_minor": 4
}